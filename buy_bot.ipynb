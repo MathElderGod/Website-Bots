{
 "cells": [
  {
   "cell_type": "code",
   "execution_count": 20,
   "id": "532e7699-678d-446f-9439-13bb9365e9b1",
   "metadata": {},
   "outputs": [],
   "source": [
    "from selenium import webdriver as wd\n",
    "from selenium.webdriver.support.select import Select\n",
    "import chromedriver_binary\n",
    "import random \n",
    "import time\n",
    "\n",
    "wd = wd.Chrome()\n",
    "wd.implicitly_wait(10)\n",
    "\n",
    "def anti_bot_detector_timer():\n",
    "    random_wait_time = random.randrange(1.0, 3.0)\n",
    "    time.sleep(random_wait_time)\n",
    "\n",
    "\n",
    "wd.get(\"https://www.newegg.com/zotac-geforce-rtx-3090-zt-a30900j-10p/p/N82E16814500510?quicklink=true\")\n",
    "\n",
    "add_to_cart_button = wd.find_element_by_xpath('//*[@id=\"ProductBuy\"]/div/div[2]/button')\n",
    "add_to_cart_button.click()\n",
    "anti_bot_detector_timer()\n",
    "\n",
    "no_thanks_button = wd.find_element_by_xpath('//*[@id=\"modal-intermediary\"]/div/div/div/div[3]/button[1]')\n",
    "no_thanks_button.click()\n",
    "anti_bot_detector_timer()\n",
    "\n",
    "view_cart_and_checkout_button = wd.find_element_by_xpath('//*[@id=\"modal-intermediary\"]/div/div/div[2]/div[2]/button[2]')\n",
    "view_cart_and_checkout_button.click()\n",
    "anti_bot_detector_timer()\n",
    "\n",
    "im_not_interested_button = wd.find_element_by_xpath('//*[@id=\"Popup_Masks\"]/div/div/div[3]/div[2]/button[1]')\n",
    "im_not_interested_button.click()\n",
    "anti_bot_detector_timer()\n",
    "\n",
    "secure_checkout_button = wd.find_element_by_xpath('//*[@id=\"app\"]/div[1]/section/div/div/form/div[2]/div[3]/div/div/div[3]/div/button')\n",
    "secure_checkout_button.click()\n",
    "anti_bot_detector_timer()\n",
    "\n",
    "guest_checkout_button = wd.find_element_by_xpath('//*[@id=\"app\"]/div/div[2]/div[2]/div/div/div[1]/form[2]/div[2]/div/button')\n",
    "guest_checkout_button.click()\n",
    "anti_bot_detector_timer()\n",
    "\n"
   ]
  },
  {
   "cell_type": "code",
   "execution_count": 24,
   "id": "04fbc236-cad3-4182-9832-c3e504bf58df",
   "metadata": {},
   "outputs": [],
   "source": [
    "add_new_adress_button = wd.find_element_by_xpath('//*[@id=\"shippingItemCell\"]/div/div[2]/div[2]/div/div[2]/div[2]/div/div')\n",
    "add_new_adress_button.click()\n",
    "anti_bot_detector_timer()\n",
    "\n"
   ]
  },
  {
   "cell_type": "code",
   "execution_count": 25,
   "id": "12779baa-9ded-465a-b18d-1409efd66ea6",
   "metadata": {},
   "outputs": [],
   "source": [
    "first_name = wd.find_element_by_xpath('//*[@id=\"app\"]/div[1]/div/div/div/div[2]/form/div[2]/div[1]/input')\n",
    "first_name.send_keys('Alexander')\n",
    "last_name = wd.find_element_by_xpath('//*[@id=\"app\"]/div[1]/div/div/div/div[2]/form/div[2]/div[2]/input')\n",
    "last_name.send_keys('Arias')\n",
    "address = wd.find_element_by_xpath('//*[@id=\"app\"]/div[1]/div/div/div/div[2]/form/div[2]/div[6]/input')\n",
    "address.send_keys('1234 Hoolah Hoop Dr.')\n",
    "city = wd.find_element_by_xpath('//*[@id=\"app\"]/div[1]/div/div/div/div[2]/form/div[2]/div[8]/input')\n",
    "city.send_keys('Some City')\n",
    "select_state = wd.find_element_by_xpath('//*[@id=\"app\"]/div[1]/div/div/div/div[2]/form/div[2]/div[9]/label[2]/select')\n",
    "Select(select_state).select_by_value('CA')\n",
    "zip_code = wd.find_element_by_xpath('//*[@id=\"app\"]/div[1]/div/div/div/div[2]/form/div[2]/div[10]/input')\n",
    "zip_code.send_keys('92037')\n",
    "phone_number = wd.find_element_by_xpath('//*[@id=\"app\"]/div[1]/div/div/div/div[2]/form/div[2]/div[12]/input')\n",
    "phone_number.send_keys('1234567890')\n",
    "email_address = wd.find_element_by_xpath('//*[@id=\"app\"]/div[1]/div/div/div/div[2]/form/div[2]/div[15]/input')\n",
    "email_address.send_keys('AlexanderArias@Hotmail.com')\n",
    "anti_bot_detector_timer()\n",
    "\n",
    "save_button = wd.find_element_by_xpath('//*[@id=\"app\"]/div[1]/div/div/div/div[3]/button[2]')\n",
    "save_button.click()\n"
   ]
  },
  {
   "cell_type": "code",
   "execution_count": 26,
   "id": "be3a172d-d9af-44fc-8761-ac883899853a",
   "metadata": {},
   "outputs": [],
   "source": [
    "use_adress_as_entered = wd.find_element_by_xpath('//*[@id=\"app\"]/div/div/div/div/div[3]/button[1]')\n",
    "use_adress_as_entered.click()\n",
    "anti_bot_detector_timer()\n",
    "\n",
    "continue_delivery_button = wd.find_element_by_xpath('//*[@id=\"shippingItemCell\"]/div/div[3]/button')\n",
    "continue_delivery_button.click()\n",
    "anti_bot_detector_timer()\n",
    "\n",
    "continue_to_payment_button = wd.find_element_by_xpath('//*[@id=\"deliveryItemCell\"]/div/div[3]/button')\n",
    "continue_to_payment_button.click()\n",
    "anti_bot_detector_timer()"
   ]
  },
  {
   "cell_type": "code",
   "execution_count": null,
   "id": "9f26d998-4e66-4713-af9b-5dc9cd0e3ff5",
   "metadata": {},
   "outputs": [],
   "source": []
  }
 ],
 "metadata": {
  "kernelspec": {
   "display_name": "Python 3",
   "language": "python",
   "name": "python3"
  },
  "language_info": {
   "codemirror_mode": {
    "name": "ipython",
    "version": 3
   },
   "file_extension": ".py",
   "mimetype": "text/x-python",
   "name": "python",
   "nbconvert_exporter": "python",
   "pygments_lexer": "ipython3",
   "version": "3.8.11"
  }
 },
 "nbformat": 4,
 "nbformat_minor": 5
}
